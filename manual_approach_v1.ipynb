{
 "cells": [
  {
   "cell_type": "code",
   "execution_count": 1,
   "metadata": {},
   "outputs": [
    {
     "name": "stdout",
     "output_type": "stream",
     "text": [
      "1\n",
      "NVIDIA GeForce RTX 3080 Ti\n"
     ]
    }
   ],
   "source": [
    "import os, gc\n",
    "from tqdm import tqdm\n",
    "\n",
    "from langchain.text_splitter import RecursiveCharacterTextSplitter\n",
    "from langchain.document_loaders import PyPDFLoader\n",
    "from langchain.prompts import PromptTemplate\n",
    "from langchain.vectorstores import Chroma, FAISS\n",
    "from langchain_huggingface import HuggingFaceEmbeddings, HuggingFacePipeline\n",
    "#from langchain_community.vectorstores import FAISS\n",
    "from langchain.chains import RetrievalQA\n",
    "\n",
    "import torch\n",
    "\n",
    "import warnings\n",
    "warnings.filterwarnings('ignore')\n",
    "\n",
    "print(torch.cuda.device_count())\n",
    "print(torch.cuda.get_device_name(0))"
   ]
  },
  {
   "cell_type": "code",
   "execution_count": 2,
   "metadata": {},
   "outputs": [
    {
     "name": "stdout",
     "output_type": "stream",
     "text": [
      "II БҮЛЭГ.ӨГӨГДЛИЙН ХҮСНЭГТ\n",
      "ТШЗ-ны \n",
      "холбогдох \n",
      "заалтА.ЕРӨНХИЙ ЗҮЙЛ\n",
      "ТШЗ 1.1Захиалагчийн нэр: Монгол шуудан ХК\n",
      "ТШЗ 1.1Зарлалын дугаар: МШ/20240202070\n",
      "Тендер шалгаруулалтын нэр: Принтерийн хор\n",
      "Тендер шалгаруулалтын багцын тоо болон нэр: Байхгүй\n",
      "ТШЗ 2.1Санхүүжилтийн эх үүсвэр: Өөрийн хөрөнгө\n",
      "Нийт төсөвт өртөг: 43,000,000 /дөчин гурван сая / төгрөг\n",
      "Б.АГУУЛГА\n",
      "ТШЗ 9.2Тендерийн баримт бичгийн талаар тодруулга авах хаяг:\n",
      "Тендерийн баримт бичгийн талаар тодруулга авах хүсэлтийг хүлээн авах  \n",
      "хугацааны хязгаар тендер хүлээн авах эцсийн хугацаанаас ажлын 2-оос  \n",
      "доошгүй  хоногийн  өмнө  байна.  Тодруулга,  нэмэлт  мэдээлэл  авах  \n",
      "хүсэлтийн хариуг хүсэлт гаргагчийн нэрийг дурдалгүйгээр албан бичгээр  \n",
      "гаргаж,  түүний  хуулбарыг  Төрийн  худалдан  авах  ажиллагааны  цахим  \n",
      "систем  (www.tender.gov.mn)-д  нийтлэх  бөгөөд  тус  тодруулга,  нэмэлт  \n",
      "мэдээллийг бүх тендерт оролцогчдод нэгэн зэрэг хүргүүлсэнд тооцно.  \n",
      "Иймд тендерт оролцохыг сонирхогч этгээдүүд дээрх цахим систем дэх  \n",
      "тендерийн  урилгын  тодруулга,  мэдээллийг  байнга  шалгахыг  зөвлөж  \n",
      "байна.\n",
      "Хариуцсан ажилтан: ХААА-ны мэргэжилтэн Ц. Мөнх-Эрдэнэ\n",
      "Хаяг: УБ, ЧД, 1-р хороо, Төв шуудан, 208 тоот\n",
      "Утасны дугаар: 70078971, 89987429\n",
      "Цахим шуудан: procurement@mongolpost.mn\n",
      "ТШЗ 11.1Тендер ирүүлэх өмнө уулзалт зохион байгуулах эсэх: Үгүй\n",
      "В.ТЕНДЕР БЭЛТГЭХ\n",
      "ТШЗ 12.2Тендер шалгаруулалтын хэл: Монгол хэл. \n",
      "/Тендерт ирүүлсэн материал нь гадаад хэл дээр үйлдэгдсэн бол албан  \n",
      "ёсны орчуулын төвөөр Монгол хэл рүү орчуулж ирүүлнэ. Албан ёсны  \n",
      "орчуулны төвөөр баталгаажуулж орчуулаагүй бол тендерээс татгалзах  \n",
      "үндэслэл болно/\n",
      "ТШЗ 15.1Хувилбарт санал ирүүлэхийг: Зөвшөөрөхгүй\n",
      "ТШЗ 16.2Ерөнхий  шаардлагыг  магадлахад  шаардлагатай  баримт  бичиг:  \n",
      "Шаардана\n",
      "1.Төрийн  болон  орон  нутгийн  өмчийн  хөрөнгөөр  бараа,  ажил,  \n",
      "үйлчилгээ худалдан авах тухай хуулийн 7 дугаар зүйлийн 7.1 дэх  \n",
      "хэсэгт  заасан  нөхцөл  үүссэн  эсэх  мэдэгдлийг  албан  бичгээр  \n",
      "ирүүлэх  /компанийг  итгэмжлэлгүйгээр  төлөөлөх  этгээд  эсхүл  \n",
      "тухайн этгээдээс итгэмжлэл авсан албан тушаалтан гарын үсэг  \n",
      "зурж, компанийн тэмдэгээр баталгаажуулсан байх, итгэмжлэгдсэн  \n",
      "төлөөлөгч  гарын  үсэг  зурсан  тохиолдолд  итгэмжлэлийг  \n",
      "хавсаргах/,\n",
      "2.Тендер  шалгаруулалт  зарласнаас  хойш  хугацаанд  цахим  \n",
      "системээс авсан татварын өр төлбөргүй тодорхойлолтыг цахим  \n",
      "системийн  холбогдох  талбараар  зааварчилгааны  дагуу  тус  тус  \n",
      "ирүүлнэ. Энэхүү тодорхойлолтыг ирүүлээгүй тохиолдолд тендер  \n",
      "нээсэн өдрийн байдлаар татвар, нийгмийн даатгалын шимтгэлийн  \n",
      "хугацаа хэтэрсэн өр төлбөрийн талаарх мэдээллийг шалгана\n",
      "3.Тендер  шалгаруулалт  зарласнаас  хойш  хугацаанд  цахим  \n",
      "системээс  авсан  нийгмийн  даатгалын  шимтгэлийн  төлбөргүй  \n",
      "тодорхойлолтыг  цахим  системийн  холбогдох  талбараар\n"
     ]
    }
   ],
   "source": [
    "loader = PyPDFLoader(\"pdf_samples/1716891429607.pdf\")\n",
    "pages = loader.load_and_split()\n",
    "\n",
    "print(pages[11].page_content)"
   ]
  },
  {
   "cell_type": "code",
   "execution_count": 3,
   "metadata": {},
   "outputs": [],
   "source": [
    "docs = loader.load()\n",
    "\n",
    "r_splitter = RecursiveCharacterTextSplitter(chunk_size = 500, chunk_overlap = 50)\n",
    "docs_split = r_splitter.split_documents(docs)"
   ]
  },
  {
   "cell_type": "code",
   "execution_count": 4,
   "metadata": {},
   "outputs": [
    {
     "name": "stderr",
     "output_type": "stream",
     "text": [
      "No sentence-transformers model found with name bayartsogt/albert-mongolian. Creating a new one with mean pooling.\n"
     ]
    },
    {
     "data": {
      "application/vnd.jupyter.widget-view+json": {
       "model_id": "adf311f4777d4679a9c6c0501f13b3a7",
       "version_major": 2,
       "version_minor": 0
      },
      "text/plain": [
       "config.json:   0%|          | 0.00/680 [00:00<?, ?B/s]"
      ]
     },
     "metadata": {},
     "output_type": "display_data"
    },
    {
     "data": {
      "application/vnd.jupyter.widget-view+json": {
       "model_id": "ccdf67b6cfa7478e8c62455e60a9a7b6",
       "version_major": 2,
       "version_minor": 0
      },
      "text/plain": [
       "model.safetensors:   0%|          | 0.00/47.3M [00:00<?, ?B/s]"
      ]
     },
     "metadata": {},
     "output_type": "display_data"
    },
    {
     "data": {
      "application/vnd.jupyter.widget-view+json": {
       "model_id": "c59cbff2d335492fbfef5d198d311bba",
       "version_major": 2,
       "version_minor": 0
      },
      "text/plain": [
       "tokenizer_config.json:   0%|          | 0.00/108 [00:00<?, ?B/s]"
      ]
     },
     "metadata": {},
     "output_type": "display_data"
    },
    {
     "data": {
      "application/vnd.jupyter.widget-view+json": {
       "model_id": "f2d151764d74412ca4aa7c215a88c0ff",
       "version_major": 2,
       "version_minor": 0
      },
      "text/plain": [
       "spiece.model:   0%|          | 0.00/950k [00:00<?, ?B/s]"
      ]
     },
     "metadata": {},
     "output_type": "display_data"
    },
    {
     "data": {
      "application/vnd.jupyter.widget-view+json": {
       "model_id": "ffeea7523c274fc49b00c4b14628b75e",
       "version_major": 2,
       "version_minor": 0
      },
      "text/plain": [
       "special_tokens_map.json:   0%|          | 0.00/156 [00:00<?, ?B/s]"
      ]
     },
     "metadata": {},
     "output_type": "display_data"
    }
   ],
   "source": [
    "embedding = HuggingFaceEmbeddings(\n",
    "    #model_name = \"tugstugi/bert-base-mongolian-cased\",\n",
    "    #model_name = \"sentence-transformers/LaBSE\",\n",
    "    model_name = \"bayartsogt/albert-mongolian\",\n",
    "    model_kwargs = {\"device\": \"cuda\"}, \n",
    "    encode_kwargs = {\"normalize_embeddings\": True}\n",
    ")"
   ]
  },
  {
   "cell_type": "markdown",
   "metadata": {},
   "source": [
    "# Chroma test"
   ]
  },
  {
   "cell_type": "code",
   "execution_count": 5,
   "metadata": {},
   "outputs": [],
   "source": [
    "vector_store = Chroma.from_documents(documents = docs_split, \n",
    "                                     embedding = embedding,\n",
    "                                     persist_directory = 'db/')"
   ]
  },
  {
   "cell_type": "code",
   "execution_count": 10,
   "metadata": {},
   "outputs": [
    {
     "name": "stdout",
     "output_type": "stream",
     "text": [
      "4\n",
      "Returned: 1\n",
      "баталгаажуулсан байна.\n",
      "6.Бараанд  тавигдах  6.1.Дотоодын үйлдвэрлэлээр хангах боломжтой чанар, \n",
      "\n",
      "Returned: 2\n",
      "санаа өгөх зорилгоор оруулсан ба тухайн гэрээний онцлогийг харгалзан захиалагч  \n",
      "эцэслэнэ. \n",
      "\n",
      "Returned: 3\n",
      "тавьсан  шаардлагад  нийцсэн,  бодитой  бөгөөд  өрсөлдөх  чадвартай  тендер  \n",
      "бэлтгэхэд оролцогчдод зайлшгүй чухал нөхцөл болно. \n",
      "Техникийн  тодорхойлолтыг  бэлтгэхэд  өрсөлдөөнийг  өрнүүлэх  зарчмыг  \n",
      "баримтлах ёстой бөгөөд худалдан авах барааны шинж чанар, материал, үйл  \n",
      "ажиллагааны  шаардагдах  стандартын  талаар  тодорхой  тусгана.  Эдгээрийг  \n",
      "хангасан  нөхцөлд  худалдан  авах  ажиллагааны  хэмнэлттэй,  үр  ашигтай, \n",
      "\n",
      "Returned: 4\n",
      "асуудлаар  Захиалагчтай  харилцах  эрхтэй  \n",
      "Нийлүүлэгчээс томилогдсон этгээдийг;\n",
      "1.1.14.“Гэнэтийн буюу давагдашгүй хүчний шинжтэй  \n",
      "онцгой нөхцөл байдал“ гэж талуудын хараа хяналтаас  \n",
      "гадуур  болсон,  урьдчилан  таамаглах  боломжгүй, \n",
      "\n"
     ]
    }
   ],
   "source": [
    "prompt = 'санхүүгийн чадавхын шаардлага хэд вэ'\n",
    "\n",
    "docs = vector_store.similarity_search(prompt)\n",
    "\n",
    "print(len(docs))\n",
    "for idx, doc in enumerate(docs):\n",
    "    print(f\"Returned: {idx + 1}\")\n",
    "    print(doc.page_content, '\\n')"
   ]
  },
  {
   "cell_type": "markdown",
   "metadata": {},
   "source": [
    "# FAISS test"
   ]
  },
  {
   "cell_type": "code",
   "execution_count": 11,
   "metadata": {},
   "outputs": [
    {
     "ename": "ImportError",
     "evalue": "Could not import faiss python package. Please install it with `pip install faiss-gpu` (for CUDA supported GPU) or `pip install faiss-cpu` (depending on Python version).",
     "output_type": "error",
     "traceback": [
      "\u001b[0;31m---------------------------------------------------------------------------\u001b[0m",
      "\u001b[0;31mModuleNotFoundError\u001b[0m                       Traceback (most recent call last)",
      "File \u001b[0;32m~/anaconda3/envs/pt_nlp_env/lib/python3.11/site-packages/langchain_community/vectorstores/faiss.py:55\u001b[0m, in \u001b[0;36mdependable_faiss_import\u001b[0;34m(no_avx2)\u001b[0m\n\u001b[1;32m     54\u001b[0m     \u001b[38;5;28;01melse\u001b[39;00m:\n\u001b[0;32m---> 55\u001b[0m         \u001b[38;5;28;01mimport\u001b[39;00m \u001b[38;5;21;01mfaiss\u001b[39;00m\n\u001b[1;32m     56\u001b[0m \u001b[38;5;28;01mexcept\u001b[39;00m \u001b[38;5;167;01mImportError\u001b[39;00m:\n",
      "\u001b[0;31mModuleNotFoundError\u001b[0m: No module named 'faiss'",
      "\nDuring handling of the above exception, another exception occurred:\n",
      "\u001b[0;31mImportError\u001b[0m                               Traceback (most recent call last)",
      "Cell \u001b[0;32mIn[11], line 1\u001b[0m\n\u001b[0;32m----> 1\u001b[0m faiss_index \u001b[38;5;241m=\u001b[39m \u001b[43mFAISS\u001b[49m\u001b[38;5;241;43m.\u001b[39;49m\u001b[43mfrom_documents\u001b[49m\u001b[43m(\u001b[49m\u001b[43mdocuments\u001b[49m\u001b[43m \u001b[49m\u001b[38;5;241;43m=\u001b[39;49m\u001b[43m \u001b[49m\u001b[43mdocs_split\u001b[49m\u001b[43m,\u001b[49m\u001b[43m \u001b[49m\n\u001b[1;32m      2\u001b[0m \u001b[43m                                   \u001b[49m\u001b[43membedding\u001b[49m\u001b[43m \u001b[49m\u001b[38;5;241;43m=\u001b[39;49m\u001b[43m \u001b[49m\u001b[43membedding\u001b[49m\u001b[43m,\u001b[49m\n\u001b[1;32m      3\u001b[0m \u001b[43m                                   \u001b[49m\u001b[43mpersist_directory\u001b[49m\u001b[43m \u001b[49m\u001b[38;5;241;43m=\u001b[39;49m\u001b[43m \u001b[49m\u001b[38;5;124;43m'\u001b[39;49m\u001b[38;5;124;43mdb/\u001b[39;49m\u001b[38;5;124;43m'\u001b[39;49m\u001b[43m)\u001b[49m\n",
      "File \u001b[0;32m~/anaconda3/envs/pt_nlp_env/lib/python3.11/site-packages/langchain_core/vectorstores.py:635\u001b[0m, in \u001b[0;36mVectorStore.from_documents\u001b[0;34m(cls, documents, embedding, **kwargs)\u001b[0m\n\u001b[1;32m    633\u001b[0m texts \u001b[38;5;241m=\u001b[39m [d\u001b[38;5;241m.\u001b[39mpage_content \u001b[38;5;28;01mfor\u001b[39;00m d \u001b[38;5;129;01min\u001b[39;00m documents]\n\u001b[1;32m    634\u001b[0m metadatas \u001b[38;5;241m=\u001b[39m [d\u001b[38;5;241m.\u001b[39mmetadata \u001b[38;5;28;01mfor\u001b[39;00m d \u001b[38;5;129;01min\u001b[39;00m documents]\n\u001b[0;32m--> 635\u001b[0m \u001b[38;5;28;01mreturn\u001b[39;00m \u001b[38;5;28;43mcls\u001b[39;49m\u001b[38;5;241;43m.\u001b[39;49m\u001b[43mfrom_texts\u001b[49m\u001b[43m(\u001b[49m\u001b[43mtexts\u001b[49m\u001b[43m,\u001b[49m\u001b[43m \u001b[49m\u001b[43membedding\u001b[49m\u001b[43m,\u001b[49m\u001b[43m \u001b[49m\u001b[43mmetadatas\u001b[49m\u001b[38;5;241;43m=\u001b[39;49m\u001b[43mmetadatas\u001b[49m\u001b[43m,\u001b[49m\u001b[43m \u001b[49m\u001b[38;5;241;43m*\u001b[39;49m\u001b[38;5;241;43m*\u001b[39;49m\u001b[43mkwargs\u001b[49m\u001b[43m)\u001b[49m\n",
      "File \u001b[0;32m~/anaconda3/envs/pt_nlp_env/lib/python3.11/site-packages/langchain_community/vectorstores/faiss.py:931\u001b[0m, in \u001b[0;36mFAISS.from_texts\u001b[0;34m(cls, texts, embedding, metadatas, ids, **kwargs)\u001b[0m\n\u001b[1;32m    912\u001b[0m \u001b[38;5;250m\u001b[39m\u001b[38;5;124;03m\"\"\"Construct FAISS wrapper from raw documents.\u001b[39;00m\n\u001b[1;32m    913\u001b[0m \n\u001b[1;32m    914\u001b[0m \u001b[38;5;124;03mThis is a user friendly interface that:\u001b[39;00m\n\u001b[0;32m   (...)\u001b[0m\n\u001b[1;32m    928\u001b[0m \u001b[38;5;124;03m        faiss = FAISS.from_texts(texts, embeddings)\u001b[39;00m\n\u001b[1;32m    929\u001b[0m \u001b[38;5;124;03m\"\"\"\u001b[39;00m\n\u001b[1;32m    930\u001b[0m embeddings \u001b[38;5;241m=\u001b[39m embedding\u001b[38;5;241m.\u001b[39membed_documents(texts)\n\u001b[0;32m--> 931\u001b[0m \u001b[38;5;28;01mreturn\u001b[39;00m \u001b[38;5;28;43mcls\u001b[39;49m\u001b[38;5;241;43m.\u001b[39;49m\u001b[43m__from\u001b[49m\u001b[43m(\u001b[49m\n\u001b[1;32m    932\u001b[0m \u001b[43m    \u001b[49m\u001b[43mtexts\u001b[49m\u001b[43m,\u001b[49m\n\u001b[1;32m    933\u001b[0m \u001b[43m    \u001b[49m\u001b[43membeddings\u001b[49m\u001b[43m,\u001b[49m\n\u001b[1;32m    934\u001b[0m \u001b[43m    \u001b[49m\u001b[43membedding\u001b[49m\u001b[43m,\u001b[49m\n\u001b[1;32m    935\u001b[0m \u001b[43m    \u001b[49m\u001b[43mmetadatas\u001b[49m\u001b[38;5;241;43m=\u001b[39;49m\u001b[43mmetadatas\u001b[49m\u001b[43m,\u001b[49m\n\u001b[1;32m    936\u001b[0m \u001b[43m    \u001b[49m\u001b[43mids\u001b[49m\u001b[38;5;241;43m=\u001b[39;49m\u001b[43mids\u001b[49m\u001b[43m,\u001b[49m\n\u001b[1;32m    937\u001b[0m \u001b[43m    \u001b[49m\u001b[38;5;241;43m*\u001b[39;49m\u001b[38;5;241;43m*\u001b[39;49m\u001b[43mkwargs\u001b[49m\u001b[43m,\u001b[49m\n\u001b[1;32m    938\u001b[0m \u001b[43m\u001b[49m\u001b[43m)\u001b[49m\n",
      "File \u001b[0;32m~/anaconda3/envs/pt_nlp_env/lib/python3.11/site-packages/langchain_community/vectorstores/faiss.py:883\u001b[0m, in \u001b[0;36mFAISS.__from\u001b[0;34m(cls, texts, embeddings, embedding, metadatas, ids, normalize_L2, distance_strategy, **kwargs)\u001b[0m\n\u001b[1;32m    871\u001b[0m \u001b[38;5;129m@classmethod\u001b[39m\n\u001b[1;32m    872\u001b[0m \u001b[38;5;28;01mdef\u001b[39;00m \u001b[38;5;21m__from\u001b[39m(\n\u001b[1;32m    873\u001b[0m     \u001b[38;5;28mcls\u001b[39m,\n\u001b[0;32m   (...)\u001b[0m\n\u001b[1;32m    881\u001b[0m     \u001b[38;5;241m*\u001b[39m\u001b[38;5;241m*\u001b[39mkwargs: Any,\n\u001b[1;32m    882\u001b[0m ) \u001b[38;5;241m-\u001b[39m\u001b[38;5;241m>\u001b[39m FAISS:\n\u001b[0;32m--> 883\u001b[0m     faiss \u001b[38;5;241m=\u001b[39m \u001b[43mdependable_faiss_import\u001b[49m\u001b[43m(\u001b[49m\u001b[43m)\u001b[49m\n\u001b[1;32m    884\u001b[0m     \u001b[38;5;28;01mif\u001b[39;00m distance_strategy \u001b[38;5;241m==\u001b[39m DistanceStrategy\u001b[38;5;241m.\u001b[39mMAX_INNER_PRODUCT:\n\u001b[1;32m    885\u001b[0m         index \u001b[38;5;241m=\u001b[39m faiss\u001b[38;5;241m.\u001b[39mIndexFlatIP(\u001b[38;5;28mlen\u001b[39m(embeddings[\u001b[38;5;241m0\u001b[39m]))\n",
      "File \u001b[0;32m~/anaconda3/envs/pt_nlp_env/lib/python3.11/site-packages/langchain_community/vectorstores/faiss.py:57\u001b[0m, in \u001b[0;36mdependable_faiss_import\u001b[0;34m(no_avx2)\u001b[0m\n\u001b[1;32m     55\u001b[0m         \u001b[38;5;28;01mimport\u001b[39;00m \u001b[38;5;21;01mfaiss\u001b[39;00m\n\u001b[1;32m     56\u001b[0m \u001b[38;5;28;01mexcept\u001b[39;00m \u001b[38;5;167;01mImportError\u001b[39;00m:\n\u001b[0;32m---> 57\u001b[0m     \u001b[38;5;28;01mraise\u001b[39;00m \u001b[38;5;167;01mImportError\u001b[39;00m(\n\u001b[1;32m     58\u001b[0m         \u001b[38;5;124m\"\u001b[39m\u001b[38;5;124mCould not import faiss python package. \u001b[39m\u001b[38;5;124m\"\u001b[39m\n\u001b[1;32m     59\u001b[0m         \u001b[38;5;124m\"\u001b[39m\u001b[38;5;124mPlease install it with `pip install faiss-gpu` (for CUDA supported GPU) \u001b[39m\u001b[38;5;124m\"\u001b[39m\n\u001b[1;32m     60\u001b[0m         \u001b[38;5;124m\"\u001b[39m\u001b[38;5;124mor `pip install faiss-cpu` (depending on Python version).\u001b[39m\u001b[38;5;124m\"\u001b[39m\n\u001b[1;32m     61\u001b[0m     )\n\u001b[1;32m     62\u001b[0m \u001b[38;5;28;01mreturn\u001b[39;00m faiss\n",
      "\u001b[0;31mImportError\u001b[0m: Could not import faiss python package. Please install it with `pip install faiss-gpu` (for CUDA supported GPU) or `pip install faiss-cpu` (depending on Python version)."
     ]
    }
   ],
   "source": [
    "faiss_index = FAISS.from_documents(documents = docs_split, \n",
    "                                   embedding = embedding,\n",
    "                                   persist_directory = 'db/')"
   ]
  },
  {
   "cell_type": "code",
   "execution_count": 12,
   "metadata": {},
   "outputs": [
    {
     "name": "stderr",
     "output_type": "stream",
     "text": [
      "huggingface/tokenizers: The current process just got forked, after parallelism has already been used. Disabling parallelism to avoid deadlocks...\n",
      "To disable this warning, you can either:\n",
      "\t- Avoid using `tokenizers` before the fork if possible\n",
      "\t- Explicitly set the environment variable TOKENIZERS_PARALLELISM=(true | false)\n"
     ]
    },
    {
     "name": "stdout",
     "output_type": "stream",
     "text": [
      "\u001b[31mERROR: Could not find a version that satisfies the requirement faiss-gpu (from versions: none)\u001b[0m\u001b[31m\n",
      "\u001b[0m\u001b[31mERROR: No matching distribution found for faiss-gpu\u001b[0m\u001b[31m\n",
      "\u001b[0m"
     ]
    }
   ],
   "source": [
    "!pip install faiss-gpu"
   ]
  },
  {
   "cell_type": "code",
   "execution_count": null,
   "metadata": {},
   "outputs": [],
   "source": [
    "pip install faiss-cpu"
   ]
  },
  {
   "cell_type": "code",
   "execution_count": null,
   "metadata": {},
   "outputs": [],
   "source": [
    " "
   ]
  },
  {
   "cell_type": "code",
   "execution_count": null,
   "metadata": {},
   "outputs": [],
   "source": []
  }
 ],
 "metadata": {
  "kernelspec": {
   "display_name": "pt_nlp_env",
   "language": "python",
   "name": "python3"
  },
  "language_info": {
   "codemirror_mode": {
    "name": "ipython",
    "version": 3
   },
   "file_extension": ".py",
   "mimetype": "text/x-python",
   "name": "python",
   "nbconvert_exporter": "python",
   "pygments_lexer": "ipython3",
   "version": "3.11.9"
  }
 },
 "nbformat": 4,
 "nbformat_minor": 2
}
